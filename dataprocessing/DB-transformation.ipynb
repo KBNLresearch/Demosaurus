{
 "cells": [
  {
   "cell_type": "code",
   "execution_count": 1,
   "metadata": {},
   "outputs": [],
   "source": [
    "import pandas as pd\n",
    "import csv_db\n",
    "import os"
   ]
  },
  {
   "cell_type": "code",
   "execution_count": 2,
   "metadata": {},
   "outputs": [],
   "source": [
    "os.chdir('..')"
   ]
  },
  {
   "cell_type": "code",
   "execution_count": 9,
   "metadata": {},
   "outputs": [],
   "source": [
    "### Brinkman thesaurus transformation (kind-ids instead of string kind)\n",
    "\n",
    "brinkman = pd.read_csv('data/clean_csv_old/thesaurus_brinkmantrefwoorden.csv', sep = ';')\n",
    "\n",
    "mapping = {'vorm':0,'zaak':1}\n",
    "\n",
    "brinkman['brinkman_kind_id'] = brinkman['kind'].map(mapping)\n",
    "brinkman = brinkman.drop(columns=['kind'])\n",
    "brinkman = brinkman.rename(columns = {'ppn':'identifier'})\n",
    "brinkman = brinkman.drop_duplicates(subset=['identifier']) # some terms exist with alternative spellings\n",
    "\n",
    "csv_db.export_csv('thesaurus_brinkmantrefwoorden', brinkman)\n",
    "\n",
    "brinkman_kinds = pd.DataFrame([[v,k] for k,v in mapping.items()], columns=['brinkman_kind_id','brinkman_kind'])\n",
    "csv_db.export_csv('thesaurus_brinkman_kinds', brinkman_kinds)"
   ]
  },
  {
   "cell_type": "code",
   "execution_count": 10,
   "metadata": {},
   "outputs": [],
   "source": [
    "### thesaurus CBK genres: rename column 'genre' to 'term'\n",
    "cbk = pd.read_csv('data/clean_csv_old/thesaurus_CBK_genres.csv', sep = ';')\n",
    "cbk = cbk.rename(columns={'genre':'term'})\n",
    "csv_db.export_csv('thesaurus_CBK_genres', cbk)"
   ]
  },
  {
   "cell_type": "code",
   "execution_count": 3,
   "metadata": {},
   "outputs": [],
   "source": [
    "### Datasplits transformation (multiple datasets with their own splits)\n",
    "datasets = {'dataset_id':[0,1],'dataset':['kinderboeken','NBD']}\n",
    "datasplits = {'datasplit_id':[0,1,2],'datasplit':['train','test','heldout']}\n",
    "kinderboeken_split = pd.read_csv('data/clean_csv_old/publication_datasplits.csv', sep = ';')\n",
    "publication_datasplits = kinderboeken_split[['publication_ppn']]\n",
    "publication_datasplits['dataset_id']=0\n",
    "publication_datasplits['datasplit_id']=(kinderboeken_split.datasplit=='test').astype(int)\n",
    "\n",
    "csv_db.export_csv(table_name='publication_datasplits',df=publication_datasplits)\n",
    "csv_db.export_csv(table_name='datasplits',df=pd.DataFrame(datasplits))\n",
    "csv_db.export_csv(table_name='datasets',df=pd.DataFrame(datasets))"
   ]
  }
 ],
 "metadata": {
  "kernelspec": {
   "display_name": "Python 3",
   "language": "python",
   "name": "python3"
  },
  "language_info": {
   "codemirror_mode": {
    "name": "ipython",
    "version": 3
   },
   "file_extension": ".py",
   "mimetype": "text/x-python",
   "name": "python",
   "nbconvert_exporter": "python",
   "pygments_lexer": "ipython3",
   "version": "3.8.10"
  }
 },
 "nbformat": 4,
 "nbformat_minor": 4
}
